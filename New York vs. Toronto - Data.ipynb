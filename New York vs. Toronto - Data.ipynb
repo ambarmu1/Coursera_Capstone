{
    "nbformat_minor": 1, 
    "cells": [
        {
            "source": "## Data", 
            "cell_type": "markdown", 
            "metadata": {
                "collapsed": true
            }
        }, 
        {
            "source": "The data that will be used to identify the similarities between Toronto, New York, and other metropolitan cities are\n\n - Population Density\n - Median Age\n - Median Income\n - Crime Rate\n - Cultural Diversity\n - Popular Venue Types\n\nData will be collected in various formats, including structured, tabular data showing aggregate metrics, and unstructured data, parsed from online sources using libraries and API\u2019s. The components will then be compared between the two cities to understand their similarity and identify characteristics using a descriptive approach. Where data may not be complete for the entire area of the cities, a sample may be used (for example: using the number of crimes per 100,000 people in the Manhattan borough of New York to predict to forecast the overall crime rate of New York City). The types of existing venues and their traffic will be used to determine the likelihood for a new business owner to open up an establishment in their geographic area.", 
            "cell_type": "markdown", 
            "metadata": {}
        }, 
        {
            "execution_count": null, 
            "cell_type": "code", 
            "metadata": {}, 
            "outputs": [], 
            "source": ""
        }
    ], 
    "metadata": {
        "kernelspec": {
            "display_name": "Python 3.5", 
            "name": "python3", 
            "language": "python"
        }, 
        "language_info": {
            "mimetype": "text/x-python", 
            "nbconvert_exporter": "python", 
            "version": "3.5.5", 
            "name": "python", 
            "file_extension": ".py", 
            "pygments_lexer": "ipython3", 
            "codemirror_mode": {
                "version": 3, 
                "name": "ipython"
            }
        }
    }, 
    "nbformat": 4
}