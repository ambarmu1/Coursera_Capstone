{
    "nbformat_minor": 1, 
    "cells": [
        {
            "source": "## Introduction", 
            "cell_type": "markdown", 
            "metadata": {
                "collapsed": true
            }
        }, 
        {
            "source": "New York City and Toronto are two of the most significant metropolitan cities, and are the financial capitals of their respective countries, in the United States and Canada. The two cities cater to the varying needs for tourists, city dwellers, and business patrons. With the goal of understanding the demographics, diversity, new business ventures, crime rate, education, and other characteristics in the two cities, it would be informative for residents, visitors, and entrepreneurs to know: how similar is New York City to Toronto? Does New York share similar characteristics to Toronto, or is it more aligned with another major city? These components are critical for contractors to know where to open a new business so that their ventures are lucrative and profitable.", 
            "cell_type": "markdown", 
            "metadata": {}
        }, 
        {
            "execution_count": null, 
            "cell_type": "code", 
            "metadata": {}, 
            "outputs": [], 
            "source": ""
        }
    ], 
    "metadata": {
        "kernelspec": {
            "display_name": "Python 3.5", 
            "name": "python3", 
            "language": "python"
        }, 
        "language_info": {
            "mimetype": "text/x-python", 
            "nbconvert_exporter": "python", 
            "version": "3.5.5", 
            "name": "python", 
            "file_extension": ".py", 
            "pygments_lexer": "ipython3", 
            "codemirror_mode": {
                "version": 3, 
                "name": "ipython"
            }
        }
    }, 
    "nbformat": 4
}